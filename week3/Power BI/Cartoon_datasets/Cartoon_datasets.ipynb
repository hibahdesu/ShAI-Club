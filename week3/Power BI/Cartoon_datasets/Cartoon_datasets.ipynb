{
 "cells": [
  {
   "cell_type": "code",
   "execution_count": 1,
   "id": "5f83cbef",
   "metadata": {},
   "outputs": [],
   "source": [
    "import pandas as pd\n",
    "import numpy as np"
   ]
  },
  {
   "cell_type": "code",
   "execution_count": 2,
   "id": "d941e96e",
   "metadata": {},
   "outputs": [
    {
     "data": {
      "text/html": [
       "<div>\n",
       "<style scoped>\n",
       "    .dataframe tbody tr th:only-of-type {\n",
       "        vertical-align: middle;\n",
       "    }\n",
       "\n",
       "    .dataframe tbody tr th {\n",
       "        vertical-align: top;\n",
       "    }\n",
       "\n",
       "    .dataframe thead th {\n",
       "        text-align: right;\n",
       "    }\n",
       "</style>\n",
       "<table border=\"1\" class=\"dataframe\">\n",
       "  <thead>\n",
       "    <tr style=\"text-align: right;\">\n",
       "      <th></th>\n",
       "      <th>Name</th>\n",
       "      <th>Span</th>\n",
       "      <th>Description</th>\n",
       "      <th>Rating</th>\n",
       "    </tr>\n",
       "  </thead>\n",
       "  <tbody>\n",
       "    <tr>\n",
       "      <th>0</th>\n",
       "      <td>Batman: The Animated Series</td>\n",
       "      <td>(1992–1995)</td>\n",
       "      <td>The Dark Knight battles crime in Gotham City w...</td>\n",
       "      <td>9.0</td>\n",
       "    </tr>\n",
       "    <tr>\n",
       "      <th>1</th>\n",
       "      <td>Samurai Jack</td>\n",
       "      <td>(2001–2017)</td>\n",
       "      <td>A samurai, sent through time, fights to return...</td>\n",
       "      <td>8.5</td>\n",
       "    </tr>\n",
       "    <tr>\n",
       "      <th>2</th>\n",
       "      <td>Avatar: The Last Airbender</td>\n",
       "      <td>(2005–2008)</td>\n",
       "      <td>In a war-torn world of elemental magic, a youn...</td>\n",
       "      <td>9.3</td>\n",
       "    </tr>\n",
       "    <tr>\n",
       "      <th>3</th>\n",
       "      <td>Total Drama Island</td>\n",
       "      <td>(2007–2014)</td>\n",
       "      <td>Animated satire of survivor reality shows feat...</td>\n",
       "      <td>7.4</td>\n",
       "    </tr>\n",
       "    <tr>\n",
       "      <th>4</th>\n",
       "      <td>Scooby-Doo! Mystery Incorporated</td>\n",
       "      <td>(2010–2013)</td>\n",
       "      <td>This incarnation finds Scooby and the gang liv...</td>\n",
       "      <td>8.1</td>\n",
       "    </tr>\n",
       "  </tbody>\n",
       "</table>\n",
       "</div>"
      ],
      "text/plain": [
       "                               Name         Span  \\\n",
       "0       Batman: The Animated Series  (1992–1995)   \n",
       "1                      Samurai Jack  (2001–2017)   \n",
       "2        Avatar: The Last Airbender  (2005–2008)   \n",
       "3                Total Drama Island  (2007–2014)   \n",
       "4  Scooby-Doo! Mystery Incorporated  (2010–2013)   \n",
       "\n",
       "                                         Description  Rating  \n",
       "0  The Dark Knight battles crime in Gotham City w...     9.0  \n",
       "1  A samurai, sent through time, fights to return...     8.5  \n",
       "2  In a war-torn world of elemental magic, a youn...     9.3  \n",
       "3  Animated satire of survivor reality shows feat...     7.4  \n",
       "4  This incarnation finds Scooby and the gang liv...     8.1  "
      ]
     },
     "execution_count": 2,
     "metadata": {},
     "output_type": "execute_result"
    }
   ],
   "source": [
    "#Let's first bring the dataset\n",
    "df = pd.read_csv('Cartoon_datasets.csv')\n",
    "#Then, let's see its head\n",
    "df.head()"
   ]
  },
  {
   "cell_type": "code",
   "execution_count": 3,
   "id": "b20dc377",
   "metadata": {},
   "outputs": [
    {
     "data": {
      "text/plain": [
       "(100, 4)"
      ]
     },
     "execution_count": 3,
     "metadata": {},
     "output_type": "execute_result"
    }
   ],
   "source": [
    "#Let's see the shape of our dataset\n",
    "df.shape\n",
    "#As we can see, it is (100, 4)"
   ]
  },
  {
   "cell_type": "code",
   "execution_count": 5,
   "id": "16597e8f",
   "metadata": {},
   "outputs": [
    {
     "data": {
      "text/html": [
       "<div>\n",
       "<style scoped>\n",
       "    .dataframe tbody tr th:only-of-type {\n",
       "        vertical-align: middle;\n",
       "    }\n",
       "\n",
       "    .dataframe tbody tr th {\n",
       "        vertical-align: top;\n",
       "    }\n",
       "\n",
       "    .dataframe thead th {\n",
       "        text-align: right;\n",
       "    }\n",
       "</style>\n",
       "<table border=\"1\" class=\"dataframe\">\n",
       "  <thead>\n",
       "    <tr style=\"text-align: right;\">\n",
       "      <th></th>\n",
       "      <th>count</th>\n",
       "      <th>mean</th>\n",
       "      <th>std</th>\n",
       "      <th>min</th>\n",
       "      <th>25%</th>\n",
       "      <th>50%</th>\n",
       "      <th>75%</th>\n",
       "      <th>max</th>\n",
       "    </tr>\n",
       "  </thead>\n",
       "  <tbody>\n",
       "    <tr>\n",
       "      <th>Rating</th>\n",
       "      <td>100.0</td>\n",
       "      <td>7.873</td>\n",
       "      <td>0.580466</td>\n",
       "      <td>6.4</td>\n",
       "      <td>7.5</td>\n",
       "      <td>7.85</td>\n",
       "      <td>8.3</td>\n",
       "      <td>9.3</td>\n",
       "    </tr>\n",
       "  </tbody>\n",
       "</table>\n",
       "</div>"
      ],
      "text/plain": [
       "        count   mean       std  min  25%   50%  75%  max\n",
       "Rating  100.0  7.873  0.580466  6.4  7.5  7.85  8.3  9.3"
      ]
     },
     "execution_count": 5,
     "metadata": {},
     "output_type": "execute_result"
    }
   ],
   "source": [
    "#Let's see the discribtion of the dataset\n",
    "df.describe().T\n",
    "#This will only include only the numeric "
   ]
  },
  {
   "cell_type": "code",
   "execution_count": 6,
   "id": "16f8a8b2",
   "metadata": {},
   "outputs": [
    {
     "name": "stdout",
     "output_type": "stream",
     "text": [
      "<class 'pandas.core.frame.DataFrame'>\n",
      "RangeIndex: 100 entries, 0 to 99\n",
      "Data columns (total 4 columns):\n",
      " #   Column       Non-Null Count  Dtype  \n",
      "---  ------       --------------  -----  \n",
      " 0   Name         100 non-null    object \n",
      " 1   Span         100 non-null    object \n",
      " 2   Description  100 non-null    object \n",
      " 3   Rating       100 non-null    float64\n",
      "dtypes: float64(1), object(3)\n",
      "memory usage: 3.3+ KB\n"
     ]
    }
   ],
   "source": [
    "#Let's see if we have null data in our columns\n",
    "df.info()\n",
    "#It seems that there is no null data"
   ]
  },
  {
   "cell_type": "code",
   "execution_count": 7,
   "id": "92fbedce",
   "metadata": {},
   "outputs": [
    {
     "data": {
      "text/plain": [
       "Name           0\n",
       "Span           0\n",
       "Description    0\n",
       "Rating         0\n",
       "dtype: int64"
      ]
     },
     "execution_count": 7,
     "metadata": {},
     "output_type": "execute_result"
    }
   ],
   "source": [
    "#Let's check\n",
    "df.isna().sum()\n",
    "#No null data"
   ]
  },
  {
   "cell_type": "code",
   "execution_count": 9,
   "id": "43b307a7",
   "metadata": {},
   "outputs": [
    {
     "data": {
      "text/plain": [
       "0"
      ]
     },
     "execution_count": 9,
     "metadata": {},
     "output_type": "execute_result"
    }
   ],
   "source": [
    "#Let's check the duplicated data\n",
    "df.duplicated().sum()\n",
    "#As we can see, there is no duplicated data "
   ]
  },
  {
   "cell_type": "code",
   "execution_count": null,
   "id": "f8007cd6",
   "metadata": {},
   "outputs": [],
   "source": []
  }
 ],
 "metadata": {
  "kernelspec": {
   "display_name": "Python 3 (ipykernel)",
   "language": "python",
   "name": "python3"
  },
  "language_info": {
   "codemirror_mode": {
    "name": "ipython",
    "version": 3
   },
   "file_extension": ".py",
   "mimetype": "text/x-python",
   "name": "python",
   "nbconvert_exporter": "python",
   "pygments_lexer": "ipython3",
   "version": "3.11.5"
  }
 },
 "nbformat": 4,
 "nbformat_minor": 5
}
